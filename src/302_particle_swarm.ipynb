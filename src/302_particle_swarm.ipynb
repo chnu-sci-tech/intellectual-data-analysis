{
 "cells": [
  {
   "cell_type": "markdown",
   "metadata": {},
   "source": [
    "# Particle Swarm Optimization"
   ]
  },
  {
   "cell_type": "markdown",
   "metadata": {},
   "source": [
    "Evolutionary algorithms belong to the family of optimization techniques inspired by the process of natural selection. These algorithms mimic the principles of biological evolution to find optimal solutions to complex problems.\n",
    "\n",
    "We will explore Particle Swarm Optimization (PSO) - a popular optimization technique inspired by the social behavior of birds and fish. PSO is a heuristic search algorithm used to find optimal solutions in complex and high-dimensional search spaces.\n",
    "\n",
    "Particle Swarm Optimization is a population-based optimization technique introduced by Eberhart and Kennedy in 1995. It is inspired by the collective behavior of birds and fish in nature. The algorithm starts with a group of particles (potential solutions) moving through the search space. Each particle represents a potential solution and has a position and velocity. The particles explore the search space and communicate with each other to find the optimal solution.\n",
    "\n",
    "Particle swarm optimization involves a group of individuals at different points in the solution space, all using real-life swarm concepts to find an optimal solution in the space. Imagine a swarm of bees that spread out looking for flowers and gradually converging on an area that has the most density of flowers. As more bees find the flowers, more are attracted to it. At its core, this is what particle swarm optimization entails. Particles make velocity adjustments based on an inertia component, cognitive component, and social component."
   ]
  },
  {
   "cell_type": "code",
   "execution_count": 1,
   "metadata": {},
   "outputs": [
    {
     "name": "stdout",
     "output_type": "stream",
     "text": [
      "Optimal Solution: 1.998166944796724\n",
      "Optimal Objective Value: 3.360091378468155e-06\n"
     ]
    }
   ],
   "source": [
    "import random\n",
    "\n",
    "def objective_function(x):\n",
    "    return x**2 - 4*x + 4\n",
    "\n",
    "def pso(population_size, iterations):\n",
    "    swarm = [random.uniform(-10, 10) for _ in range(population_size)]\n",
    "    pBest = swarm[:]\n",
    "    gBest = min(swarm, key=objective_function)\n",
    "\n",
    "    for _ in range(iterations):\n",
    "        for i in range(population_size):\n",
    "            velocity = random.uniform(-1, 1)\n",
    "            swarm[i] += velocity\n",
    "\n",
    "            if objective_function(swarm[i]) < objective_function(pBest[i]):\n",
    "                pBest[i] = swarm[i]\n",
    "\n",
    "            if objective_function(swarm[i]) < objective_function(gBest):\n",
    "                gBest = swarm[i]\n",
    "\n",
    "    return gBest\n",
    "\n",
    "population_size = 50\n",
    "iterations = 100\n",
    "optimal_solution = pso(population_size, iterations)\n",
    "print(\"Optimal Solution:\", optimal_solution)\n",
    "print(\"Optimal Objective Value:\", objective_function(optimal_solution))"
   ]
  },
  {
   "cell_type": "code",
   "execution_count": 2,
   "metadata": {},
   "outputs": [],
   "source": [
    "import math\n",
    "from mpl_toolkits import mplot3d\n",
    "import matplotlib.pyplot as plt\n",
    "import numpy as np\n",
    "\n",
    "DIMENSIONS = 2              # Number of dimensions\n",
    "GLOBAL_BEST = 0             # Global Best of Cost function\n",
    "B_LO = -5                   # Upper boundary of search space\n",
    "B_HI = 5                    # Upper boundary of search space\n",
    "\n",
    "POPULATION = 20             # Number of particles in the swarm\n",
    "V_MAX = 0.1                 # Maximum velocity value\n",
    "PERSONAL_C = 2.0            # Personal coefficient factor\n",
    "SOCIAL_C = 2.0              # Social coefficient factor\n",
    "CONVERGENCE = 0.001         # Convergence value\n",
    "MAX_ITER = 100              # Maximum number of iterrations\n",
    "\n",
    "# Particle class\n",
    "class Particle():\n",
    "    def __init__(self, x, y, z, velocity):\n",
    "        self.pos = [x, y]\n",
    "        self.pos_z = z\n",
    "        self.velocity = velocity\n",
    "        self.best_pos = self.pos.copy()\n",
    "\n",
    "class Swarm():\n",
    "    def __init__(self, pop, v_max):\n",
    "        self.particles = []             # List of particles in the swarm\n",
    "        self.best_pos = None            # Best particle of the swarm\n",
    "        self.best_pos_z = math.inf      # Best particle of the swarm\n",
    "\n",
    "        for _ in range(pop):\n",
    "            x = np.random.uniform(B_LO, B_HI)\n",
    "            y = np.random.uniform(B_LO, B_HI)\n",
    "            z = cost_function(x, y)\n",
    "            velocity = np.random.rand(2) * v_max\n",
    "            particle = Particle(x, y, z, velocity)\n",
    "            self.particles.append(particle)\n",
    "            if self.best_pos != None and particle.pos_z < self.best_pos_z:\n",
    "                self.best_pos = particle.pos.copy()\n",
    "                self.best_pos_z = particle.pos_z\n",
    "            else:\n",
    "                self.best_pos = particle.pos.copy()\n",
    "                self.best_pos_z = particle.pos_z\n",
    "\n",
    "# Evaluate objective/cost function (Ackley)\n",
    "def cost_function(x, y, a=20, b=0.2, c=2*math.pi):\n",
    "    term_1 = np.exp((-b * np.sqrt(0.5 * (x ** 2 + y ** 2))))\n",
    "    term_2 = np.exp((np.cos(c * x) + np.cos(c * y)) / 2)\n",
    "    return -1 * a * term_1 - term_2 + a + np.exp(1)"
   ]
  },
  {
   "cell_type": "code",
   "execution_count": 36,
   "metadata": {},
   "outputs": [],
   "source": [
    "def particle_swarm_optimization():\n",
    "\n",
    "    # Initialize plotting variables\n",
    "    x = np.linspace(B_LO, B_HI, 50)\n",
    "    y = np.linspace(B_LO, B_HI, 50)\n",
    "    X, Y = np.meshgrid(x, y)\n",
    "    fig = plt.figure(\"Particle Swarm Optimization\")\n",
    "\n",
    "    # Initialize swarm\n",
    "    swarm = Swarm(POPULATION, V_MAX)\n",
    "\n",
    "    # Initialize inertia weight\n",
    "    inertia_weight = 0.5 + (np.random.rand()/2)\n",
    "    \n",
    "    curr_iter = 0\n",
    "    while curr_iter < MAX_ITER:\n",
    "\n",
    "        fig.clear()\n",
    "        ax = fig.add_subplot(MAX_ITER, 1, curr_iter+1)\n",
    "        ac = ax.contourf(X, Y, cost_function(X, Y), cmap='viridis')\n",
    "        fig.colorbar(ac)\n",
    "\n",
    "        for particle in swarm.particles:\n",
    "\n",
    "            for i in range(0, DIMENSIONS):\n",
    "                r1 = np.random.uniform(0, 1)\n",
    "                r2 = np.random.uniform(0, 1)\n",
    "                \n",
    "                # Update particle's velocity\n",
    "                personal_coefficient = PERSONAL_C * r1 * (particle.best_pos[i] - particle.pos[i])\n",
    "                social_coefficient = SOCIAL_C * r2 * (swarm.best_pos[i] - particle.pos[i])\n",
    "                new_velocity = inertia_weight * particle.velocity[i] + personal_coefficient + social_coefficient\n",
    "\n",
    "                # Check if velocity is exceeded\n",
    "                if new_velocity > V_MAX:\n",
    "                    particle.velocity[i] = V_MAX\n",
    "                elif new_velocity < -V_MAX:\n",
    "                    particle.velocity[i] = -V_MAX\n",
    "                else:\n",
    "                    particle.velocity[i] = new_velocity\n",
    "\n",
    "            ax.scatter(particle.pos[0], particle.pos[1], marker='*', c='r')\n",
    "            ax.arrow(particle.pos[0], particle.pos[1], particle.velocity[0], particle.velocity[1], head_width=0.1, head_length=0.1, color='k')\n",
    "\n",
    "            # Update particle's current position\n",
    "            particle.pos += particle.velocity\n",
    "            particle.pos_z = cost_function(particle.pos[0], particle.pos[1])\n",
    "\n",
    "            # Update particle's best known position\n",
    "            if particle.pos_z < cost_function(particle.best_pos[0], particle.best_pos[1]):\n",
    "                particle.best_pos = particle.pos.copy()\n",
    "\n",
    "                # Update swarm's best known position\n",
    "                if particle.pos_z < swarm.best_pos_z:\n",
    "                    swarm.best_pos = particle.pos.copy()\n",
    "                    swarm.best_pos_z = particle.pos_z\n",
    "                    \n",
    "            # Check if particle is within boundaries\n",
    "            if particle.pos[0] > B_HI:\n",
    "                particle.pos[0] = np.random.uniform(B_LO, B_HI)\n",
    "                particle.pos_z = cost_function(particle.pos[0], particle.pos[1])\n",
    "            if particle.pos[1] > B_HI:\n",
    "                particle.pos[1] = np.random.uniform(B_LO, B_HI)\n",
    "                particle.pos_z = cost_function(particle.pos[0], particle.pos[1])\n",
    "            if particle.pos[0] < B_LO:\n",
    "                particle.pos[0] = np.random.uniform(B_LO, B_HI)\n",
    "                particle.pos_z = cost_function(particle.pos[0], particle.pos[1])\n",
    "            if particle.pos[1] < B_LO:\n",
    "                particle.pos[1] = np.random.uniform(B_LO, B_HI)\n",
    "                particle.pos_z = cost_function(particle.pos[0], particle.pos[1])\n",
    "\n",
    "        plt.subplots_adjust(right = 0.95)\n",
    "        plt.pause(0.00001)\n",
    "\n",
    "        # Check for convergence\n",
    "        if abs(swarm.best_pos_z - GLOBAL_BEST) < CONVERGENCE:\n",
    "            print(\"The swarm has met convergence criteria after \" + str(curr_iter) + \" iterrations.\")\n",
    "            break\n",
    "        curr_iter += 1\n",
    "    # plt.show()"
   ]
  },
  {
   "cell_type": "code",
   "execution_count": 37,
   "metadata": {},
   "outputs": [
    {
     "data": {
      "image/png": "[encoded data removed]",
      "text/plain": [
       "<Figure size 640x480 with 2 Axes>"
      ]
     },
     "metadata": {},
     "output_type": "display_data"
    },
    {
     "data": {
      "text/plain": [
       "<Figure size 640x480 with 0 Axes>"
      ]
     },
     "metadata": {},
     "output_type": "display_data"
    },
    {
     "data": {
      "text/plain": [
       "<Figure size 640x480 with 0 Axes>"
      ]
     },
     "metadata": {},
     "output_type": "display_data"
    },
    {
     "data": {
      "text/plain": [
       "<Figure size 640x480 with 0 Axes>"
      ]
     },
     "metadata": {},
     "output_type": "display_data"
    },
    {
     "data": {
      "text/plain": [
       "<Figure size 640x480 with 0 Axes>"
      ]
     },
     "metadata": {},
     "output_type": "display_data"
    },
    {
     "data": {
      "text/plain": [
       "<Figure size 640x480 with 0 Axes>"
      ]
     },
     "metadata": {},
     "output_type": "display_data"
    },
    {
     "data": {
      "text/plain": [
       "<Figure size 640x480 with 0 Axes>"
      ]
     },
     "metadata": {},
     "output_type": "display_data"
    },
    {
     "data": {
      "text/plain": [
       "<Figure size 640x480 with 0 Axes>"
      ]
     },
     "metadata": {},
     "output_type": "display_data"
    },
    {
     "data": {
      "text/plain": [
       "<Figure size 640x480 with 0 Axes>"
      ]
     },
     "metadata": {},
     "output_type": "display_data"
    },
    {
     "data": {
      "text/plain": [
       "<Figure size 640x480 with 0 Axes>"
      ]
     },
     "metadata": {},
     "output_type": "display_data"
    },
    {
     "data": {
      "text/plain": [
       "<Figure size 640x480 with 0 Axes>"
      ]
     },
     "metadata": {},
     "output_type": "display_data"
    },
    {
     "data": {
      "text/plain": [
       "<Figure size 640x480 with 0 Axes>"
      ]
     },
     "metadata": {},
     "output_type": "display_data"
    },
    {
     "data": {
      "text/plain": [
       "<Figure size 640x480 with 0 Axes>"
      ]
     },
     "metadata": {},
     "output_type": "display_data"
    },
    {
     "data": {
      "text/plain": [
       "<Figure size 640x480 with 0 Axes>"
      ]
     },
     "metadata": {},
     "output_type": "display_data"
    },
    {
     "data": {
      "text/plain": [
       "<Figure size 640x480 with 0 Axes>"
      ]
     },
     "metadata": {},
     "output_type": "display_data"
    },
    {
     "data": {
      "text/plain": [
       "<Figure size 640x480 with 0 Axes>"
      ]
     },
     "metadata": {},
     "output_type": "display_data"
    },
    {
     "data": {
      "text/plain": [
       "<Figure size 640x480 with 0 Axes>"
      ]
     },
     "metadata": {},
     "output_type": "display_data"
    },
    {
     "data": {
      "text/plain": [
       "<Figure size 640x480 with 0 Axes>"
      ]
     },
     "metadata": {},
     "output_type": "display_data"
    },
    {
     "data": {
      "text/plain": [
       "<Figure size 640x480 with 0 Axes>"
      ]
     },
     "metadata": {},
     "output_type": "display_data"
    },
    {
     "data": {
      "text/plain": [
       "<Figure size 640x480 with 0 Axes>"
      ]
     },
     "metadata": {},
     "output_type": "display_data"
    },
    {
     "data": {
      "text/plain": [
       "<Figure size 640x480 with 0 Axes>"
      ]
     },
     "metadata": {},
     "output_type": "display_data"
    },
    {
     "data": {
      "text/plain": [
       "<Figure size 640x480 with 0 Axes>"
      ]
     },
     "metadata": {},
     "output_type": "display_data"
    },
    {
     "data": {
      "text/plain": [
       "<Figure size 640x480 with 0 Axes>"
      ]
     },
     "metadata": {},
     "output_type": "display_data"
    },
    {
     "data": {
      "text/plain": [
       "<Figure size 640x480 with 0 Axes>"
      ]
     },
     "metadata": {},
     "output_type": "display_data"
    },
    {
     "data": {
      "text/plain": [
       "<Figure size 640x480 with 0 Axes>"
      ]
     },
     "metadata": {},
     "output_type": "display_data"
    },
    {
     "data": {
      "text/plain": [
       "<Figure size 640x480 with 0 Axes>"
      ]
     },
     "metadata": {},
     "output_type": "display_data"
    },
    {
     "data": {
      "text/plain": [
       "<Figure size 640x480 with 0 Axes>"
      ]
     },
     "metadata": {},
     "output_type": "display_data"
    },
    {
     "data": {
      "text/plain": [
       "<Figure size 640x480 with 0 Axes>"
      ]
     },
     "metadata": {},
     "output_type": "display_data"
    },
    {
     "data": {
      "text/plain": [
       "<Figure size 640x480 with 0 Axes>"
      ]
     },
     "metadata": {},
     "output_type": "display_data"
    },
    {
     "data": {
      "text/plain": [
       "<Figure size 640x480 with 0 Axes>"
      ]
     },
     "metadata": {},
     "output_type": "display_data"
    },
    {
     "data": {
      "text/plain": [
       "<Figure size 640x480 with 0 Axes>"
      ]
     },
     "metadata": {},
     "output_type": "display_data"
    },
    {
     "data": {
      "text/plain": [
       "<Figure size 640x480 with 0 Axes>"
      ]
     },
     "metadata": {},
     "output_type": "display_data"
    },
    {
     "data": {
      "text/plain": [
       "<Figure size 640x480 with 0 Axes>"
      ]
     },
     "metadata": {},
     "output_type": "display_data"
    },
    {
     "data": {
      "text/plain": [
       "<Figure size 640x480 with 0 Axes>"
      ]
     },
     "metadata": {},
     "output_type": "display_data"
    },
    {
     "data": {
      "text/plain": [
       "<Figure size 640x480 with 0 Axes>"
      ]
     },
     "metadata": {},
     "output_type": "display_data"
    },
    {
     "data": {
      "text/plain": [
       "<Figure size 640x480 with 0 Axes>"
      ]
     },
     "metadata": {},
     "output_type": "display_data"
    },
    {
     "data": {
      "text/plain": [
       "<Figure size 640x480 with 0 Axes>"
      ]
     },
     "metadata": {},
     "output_type": "display_data"
    },
    {
     "data": {
      "text/plain": [
       "<Figure size 640x480 with 0 Axes>"
      ]
     },
     "metadata": {},
     "output_type": "display_data"
    },
    {
     "data": {
      "text/plain": [
       "<Figure size 640x480 with 0 Axes>"
      ]
     },
     "metadata": {},
     "output_type": "display_data"
    },
    {
     "data": {
      "text/plain": [
       "<Figure size 640x480 with 0 Axes>"
      ]
     },
     "metadata": {},
     "output_type": "display_data"
    },
    {
     "data": {
      "text/plain": [
       "<Figure size 640x480 with 0 Axes>"
      ]
     },
     "metadata": {},
     "output_type": "display_data"
    },
    {
     "data": {
      "text/plain": [
       "<Figure size 640x480 with 0 Axes>"
      ]
     },
     "metadata": {},
     "output_type": "display_data"
    },
    {
     "data": {
      "text/plain": [
       "<Figure size 640x480 with 0 Axes>"
      ]
     },
     "metadata": {},
     "output_type": "display_data"
    },
    {
     "data": {
      "text/plain": [
       "<Figure size 640x480 with 0 Axes>"
      ]
     },
     "metadata": {},
     "output_type": "display_data"
    },
    {
     "data": {
      "text/plain": [
       "<Figure size 640x480 with 0 Axes>"
      ]
     },
     "metadata": {},
     "output_type": "display_data"
    },
    {
     "data": {
      "text/plain": [
       "<Figure size 640x480 with 0 Axes>"
      ]
     },
     "metadata": {},
     "output_type": "display_data"
    },
    {
     "data": {
      "text/plain": [
       "<Figure size 640x480 with 0 Axes>"
      ]
     },
     "metadata": {},
     "output_type": "display_data"
    },
    {
     "data": {
      "text/plain": [
       "<Figure size 640x480 with 0 Axes>"
      ]
     },
     "metadata": {},
     "output_type": "display_data"
    },
    {
     "data": {
      "text/plain": [
       "<Figure size 640x480 with 0 Axes>"
      ]
     },
     "metadata": {},
     "output_type": "display_data"
    },
    {
     "data": {
      "text/plain": [
       "<Figure size 640x480 with 0 Axes>"
      ]
     },
     "metadata": {},
     "output_type": "display_data"
    },
    {
     "data": {
      "text/plain": [
       "<Figure size 640x480 with 0 Axes>"
      ]
     },
     "metadata": {},
     "output_type": "display_data"
    },
    {
     "data": {
      "text/plain": [
       "<Figure size 640x480 with 0 Axes>"
      ]
     },
     "metadata": {},
     "output_type": "display_data"
    },
    {
     "data": {
      "text/plain": [
       "<Figure size 640x480 with 0 Axes>"
      ]
     },
     "metadata": {},
     "output_type": "display_data"
    },
    {
     "data": {
      "text/plain": [
       "<Figure size 640x480 with 0 Axes>"
      ]
     },
     "metadata": {},
     "output_type": "display_data"
    },
    {
     "data": {
      "text/plain": [
       "<Figure size 640x480 with 0 Axes>"
      ]
     },
     "metadata": {},
     "output_type": "display_data"
    },
    {
     "data": {
      "text/plain": [
       "<Figure size 640x480 with 0 Axes>"
      ]
     },
     "metadata": {},
     "output_type": "display_data"
    },
    {
     "data": {
      "text/plain": [
       "<Figure size 640x480 with 0 Axes>"
      ]
     },
     "metadata": {},
     "output_type": "display_data"
    },
    {
     "data": {
      "text/plain": [
       "<Figure size 640x480 with 0 Axes>"
      ]
     },
     "metadata": {},
     "output_type": "display_data"
    },
    {
     "data": {
      "text/plain": [
       "<Figure size 640x480 with 0 Axes>"
      ]
     },
     "metadata": {},
     "output_type": "display_data"
    },
    {
     "data": {
      "text/plain": [
       "<Figure size 640x480 with 0 Axes>"
      ]
     },
     "metadata": {},
     "output_type": "display_data"
    },
    {
     "data": {
      "text/plain": [
       "<Figure size 640x480 with 0 Axes>"
      ]
     },
     "metadata": {},
     "output_type": "display_data"
    },
    {
     "data": {
      "text/plain": [
       "<Figure size 640x480 with 0 Axes>"
      ]
     },
     "metadata": {},
     "output_type": "display_data"
    },
    {
     "data": {
      "text/plain": [
       "<Figure size 640x480 with 0 Axes>"
      ]
     },
     "metadata": {},
     "output_type": "display_data"
    },
    {
     "data": {
      "text/plain": [
       "<Figure size 640x480 with 0 Axes>"
      ]
     },
     "metadata": {},
     "output_type": "display_data"
    },
    {
     "data": {
      "text/plain": [
       "<Figure size 640x480 with 0 Axes>"
      ]
     },
     "metadata": {},
     "output_type": "display_data"
    },
    {
     "data": {
      "text/plain": [
       "<Figure size 640x480 with 0 Axes>"
      ]
     },
     "metadata": {},
     "output_type": "display_data"
    },
    {
     "data": {
      "text/plain": [
       "<Figure size 640x480 with 0 Axes>"
      ]
     },
     "metadata": {},
     "output_type": "display_data"
    },
    {
     "data": {
      "text/plain": [
       "<Figure size 640x480 with 0 Axes>"
      ]
     },
     "metadata": {},
     "output_type": "display_data"
    },
    {
     "data": {
      "text/plain": [
       "<Figure size 640x480 with 0 Axes>"
      ]
     },
     "metadata": {},
     "output_type": "display_data"
    },
    {
     "data": {
      "text/plain": [
       "<Figure size 640x480 with 0 Axes>"
      ]
     },
     "metadata": {},
     "output_type": "display_data"
    },
    {
     "data": {
      "text/plain": [
       "<Figure size 640x480 with 0 Axes>"
      ]
     },
     "metadata": {},
     "output_type": "display_data"
    },
    {
     "data": {
      "text/plain": [
       "<Figure size 640x480 with 0 Axes>"
      ]
     },
     "metadata": {},
     "output_type": "display_data"
    },
    {
     "data": {
      "text/plain": [
       "<Figure size 640x480 with 0 Axes>"
      ]
     },
     "metadata": {},
     "output_type": "display_data"
    },
    {
     "data": {
      "text/plain": [
       "<Figure size 640x480 with 0 Axes>"
      ]
     },
     "metadata": {},
     "output_type": "display_data"
    },
    {
     "data": {
      "text/plain": [
       "<Figure size 640x480 with 0 Axes>"
      ]
     },
     "metadata": {},
     "output_type": "display_data"
    },
    {
     "data": {
      "text/plain": [
       "<Figure size 640x480 with 0 Axes>"
      ]
     },
     "metadata": {},
     "output_type": "display_data"
    },
    {
     "data": {
      "text/plain": [
       "<Figure size 640x480 with 0 Axes>"
      ]
     },
     "metadata": {},
     "output_type": "display_data"
    },
    {
     "data": {
      "text/plain": [
       "<Figure size 640x480 with 0 Axes>"
      ]
     },
     "metadata": {},
     "output_type": "display_data"
    },
    {
     "data": {
      "text/plain": [
       "<Figure size 640x480 with 0 Axes>"
      ]
     },
     "metadata": {},
     "output_type": "display_data"
    },
    {
     "data": {
      "text/plain": [
       "<Figure size 640x480 with 0 Axes>"
      ]
     },
     "metadata": {},
     "output_type": "display_data"
    },
    {
     "data": {
      "text/plain": [
       "<Figure size 640x480 with 0 Axes>"
      ]
     },
     "metadata": {},
     "output_type": "display_data"
    },
    {
     "data": {
      "text/plain": [
       "<Figure size 640x480 with 0 Axes>"
      ]
     },
     "metadata": {},
     "output_type": "display_data"
    },
    {
     "data": {
      "text/plain": [
       "<Figure size 640x480 with 0 Axes>"
      ]
     },
     "metadata": {},
     "output_type": "display_data"
    },
    {
     "data": {
      "text/plain": [
       "<Figure size 640x480 with 0 Axes>"
      ]
     },
     "metadata": {},
     "output_type": "display_data"
    },
    {
     "data": {
      "text/plain": [
       "<Figure size 640x480 with 0 Axes>"
      ]
     },
     "metadata": {},
     "output_type": "display_data"
    },
    {
     "data": {
      "text/plain": [
       "<Figure size 640x480 with 0 Axes>"
      ]
     },
     "metadata": {},
     "output_type": "display_data"
    },
    {
     "data": {
      "text/plain": [
       "<Figure size 640x480 with 0 Axes>"
      ]
     },
     "metadata": {},
     "output_type": "display_data"
    },
    {
     "data": {
      "text/plain": [
       "<Figure size 640x480 with 0 Axes>"
      ]
     },
     "metadata": {},
     "output_type": "display_data"
    },
    {
     "data": {
      "text/plain": [
       "<Figure size 640x480 with 0 Axes>"
      ]
     },
     "metadata": {},
     "output_type": "display_data"
    },
    {
     "data": {
      "text/plain": [
       "<Figure size 640x480 with 0 Axes>"
      ]
     },
     "metadata": {},
     "output_type": "display_data"
    },
    {
     "data": {
      "text/plain": [
       "<Figure size 640x480 with 0 Axes>"
      ]
     },
     "metadata": {},
     "output_type": "display_data"
    },
    {
     "data": {
      "text/plain": [
       "<Figure size 640x480 with 0 Axes>"
      ]
     },
     "metadata": {},
     "output_type": "display_data"
    },
    {
     "data": {
      "text/plain": [
       "<Figure size 640x480 with 0 Axes>"
      ]
     },
     "metadata": {},
     "output_type": "display_data"
    },
    {
     "data": {
      "text/plain": [
       "<Figure size 640x480 with 0 Axes>"
      ]
     },
     "metadata": {},
     "output_type": "display_data"
    },
    {
     "data": {
      "text/plain": [
       "<Figure size 640x480 with 0 Axes>"
      ]
     },
     "metadata": {},
     "output_type": "display_data"
    },
    {
     "data": {
      "text/plain": [
       "<Figure size 640x480 with 0 Axes>"
      ]
     },
     "metadata": {},
     "output_type": "display_data"
    },
    {
     "data": {
      "text/plain": [
       "<Figure size 640x480 with 0 Axes>"
      ]
     },
     "metadata": {},
     "output_type": "display_data"
    },
    {
     "data": {
      "text/plain": [
       "<Figure size 640x480 with 0 Axes>"
      ]
     },
     "metadata": {},
     "output_type": "display_data"
    },
    {
     "data": {
      "text/plain": [
       "<Figure size 640x480 with 0 Axes>"
      ]
     },
     "metadata": {},
     "output_type": "display_data"
    },
    {
     "data": {
      "text/plain": [
       "<Figure size 640x480 with 0 Axes>"
      ]
     },
     "metadata": {},
     "output_type": "display_data"
    }
   ],
   "source": [
    "particle_swarm_optimization()"
   ]
  }
 ],
 "metadata": {
  "kernelspec": {
   "display_name": "Python 3",
   "language": "python",
   "name": "python3"
  },
  "language_info": {
   "codemirror_mode": {
    "name": "ipython",
    "version": 3
   },
   "file_extension": ".py",
   "mimetype": "text/x-python",
   "name": "python",
   "nbconvert_exporter": "python",
   "pygments_lexer": "ipython3",
   "version": "3.10.0"
  }
 },
 "nbformat": 4,
 "nbformat_minor": 2
}
