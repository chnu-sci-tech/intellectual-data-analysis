{
 "cells": [
  {
   "cell_type": "markdown",
   "metadata": {},
   "source": [
    "# Graph and network processing\n",
    "\n",
    "A great deal of data that you will encounter as a data scientist fundamentally involves network data, interrelated objects with relationships between them.\n",
    "\n",
    "Graphs as mathematical objects are collections of vertices (also called nodes) and edges. In general “network” refers to the interrelation between actual entities in the real world, where as “graph” refers to the mathematical models for representing vertices and edges (which will often be used to represent networks)."
   ]
  },
  {
   "cell_type": "markdown",
   "metadata": {},
   "source": [
    "![graph](../resources/graph-1.jpg)"
   ]
  },
  {
   "cell_type": "markdown",
   "metadata": {},
   "source": [
    "## Graph models\n",
    "\n",
    "- directed vs undirected\n",
    "- Weighted vs. unweighted graphs\n",
    "\n",
    "Example graph\n",
    "\n",
    "![graph](../resources/graph-2.png)\n",
    "\n",
    "Nodes: $N = \\{A,B,C,D,E\\}$\n",
    "\n",
    "Edges: $E=\\{(A,B),(A,E), (D,A), (C,D)\\}$\n",
    "\n",
    "Directed graph:\n",
    "\n",
    "![graph](../resources/graph-3.png)\n",
    "\n",
    "Weighted graph: \n",
    "\n",
    "![graph](../resources/graph-4.png)"
   ]
  },
  {
   "cell_type": "markdown",
   "metadata": {},
   "source": [
    "## Graph representations\n",
    "\n",
    "![graph](../resources/graph-5.png)\n",
    "\n",
    "Ways to represent graph:\n",
    "\n",
    "- Adjacency list\n",
    "- Adjacency dictionary\n",
    "- Adjacency matrix"
   ]
  },
  {
   "cell_type": "markdown",
   "metadata": {},
   "source": [
    "### Adjacency List\n",
    "\n",
    "One of the simplest way to represent directed graphs is as a two-level list, where the elements in the list describe the nodes that each node is connected to."
   ]
  },
  {
   "cell_type": "code",
   "execution_count": 2,
   "metadata": {},
   "outputs": [
    {
     "name": "stdout",
     "output_type": "stream",
     "text": [
      "['A', 'B', 'C', 'D']\n",
      "{'A': 0, 'B': 1, 'C': 2, 'D': 3}\n",
      "[0, 3]\n"
     ]
    }
   ],
   "source": [
    "nodes = [\"A\", \"B\", \"C\", \"D\"]\n",
    "print(nodes)\n",
    "nodes_dict = {\"A\":0, \"B\":1, \"C\":2, \"D\":3} # if we want a fast way of looking up nodes, we can create a dictionary of nodes to indices\n",
    "nodes_dict = {k:i for i,k in enumerate(nodes)}  # same as the above, done programmatically\n",
    "print(nodes_dict)\n",
    "\n",
    "adj_list = [[1], [2], [0,3], []]\n",
    "print(adj_list[2])"
   ]
  },
  {
   "cell_type": "markdown",
   "metadata": {},
   "source": [
    "**Pros**: easy to get all outgoing links from a given node, fast to add new edges \n",
    "(without checking for duplicates)\n",
    "\n",
    "**Cons**: deleting edges or checking existence of an edge requires scan through \n",
    "given node’s full adjacency array"
   ]
  },
  {
   "cell_type": "markdown",
   "metadata": {},
   "source": [
    "## Adjacency dictionary\n",
    "\n",
    "For each node, store a dictionary of the nodes that it connects to"
   ]
  },
  {
   "cell_type": "code",
   "execution_count": null,
   "metadata": {},
   "outputs": [],
   "source": [
    "adj_dict = {\"A\": {\"B\":1.0}, \"B\":{\"C\":1.0}, \"C\":{\"A\":1.0, \"D\":1.0}, \"D\":{}}"
   ]
  },
  {
   "cell_type": "markdown",
   "metadata": {},
   "source": [
    "**Pros**: easy to add/remove/query edges (requires two dictionary lookups, so a 𝑂(1)\n",
    "operation)\n",
    "\n",
    "**Cons**: overhead of using a dictionary over array"
   ]
  },
  {
   "cell_type": "markdown",
   "metadata": {},
   "source": [
    "## Adjacency matrix\n",
    "\n",
    "Store the connectivity of the graph as a matrix.\n",
    "\n",
    "$\n",
    "\\mathbf{A} = \\begin{bmatrix}\n",
    "0 & 0 & 1 & 0 \\\\\n",
    "1 & 0 & 0 & 0 \\\\\n",
    "0 & 1 & 0 & 0 \\\\\n",
    "0 & 0 & 1 & 0\n",
    "\\end{bmatrix}\n",
    "$\n",
    "\n",
    "In virtually all cases, you will want to store this as a sparse matrix.\n",
    "\n",
    "Pros/cons depend on which sparse matrix format you use, but most operations on a static \n",
    "graph will but much faster using the right format."
   ]
  },
  {
   "cell_type": "markdown",
   "metadata": {},
   "source": [
    "## Graph algorithms\n",
    "\n",
    "- **Dijsktra’s algorithm**\n",
    "\n",
    "*Purpose*: Dijkstra’s algorithm finds the shortest path from a starting node to all other nodes in a graph with non-negative edge weights.\n",
    "\n",
    "How it works:\n",
    "\n",
    "Start at the initial node and assign it a distance of 0 (to itself), and set all other nodes’ distances to infinity.\n",
    "\n",
    "From the current node, look at all its unvisited neighbors, and calculate their tentative distances (current node’s distance + edge weight).\n",
    "\n",
    "Update the neighbor’s distance if the new calculated distance is smaller.\n",
    "\n",
    "Mark the current node as visited, then move to the unvisited node with the smallest tentative distance.\n",
    "Repeat this process until all nodes have been visited.\n",
    "\n",
    "The result is the shortest path from the starting node to all other nodes.\n",
    "\n",
    "\n",
    "- **PageRank**\n",
    "\n",
    "*Purpose*: PageRank ranks web pages in search results based on their importance, using links between pages to measure relevance.\n",
    "\n",
    "How it works:\n",
    "\n",
    "Consider the web as a directed graph where nodes represent web pages, and edges represent hyperlinks.\n",
    "Initially, assign an equal rank (importance) to all pages.\n",
    "\n",
    "For each page, distribute its rank equally to all the pages it links to.\n",
    "\n",
    "A page’s rank is then updated as the sum of the ranks it receives from other pages linking to it.\n",
    "\n",
    "After several iterations, the algorithm stabilizes, and each page is assigned a final rank based on the number and quality of incoming links.\n",
    "\n",
    "Pages with more high-quality incoming links get higher ranks.\n",
    "\n",
    "\n",
    "- **Girvan-Newman**\n",
    "\n",
    "*Purpose*: The Girvan-Newman algorithm is used to detect community structures in a network by iteratively removing edges with high \"betweenness\" (i.e., edges that frequently lie on the shortest paths between nodes).\n",
    "\n",
    "How it works:\n",
    "\n",
    "For each edge in the graph, calculate its \"betweenness,\" which measures how often it appears on the shortest paths between pairs of nodes.\n",
    "\n",
    "Remove the edge with the highest betweenness, as it likely connects different communities.\n",
    "\n",
    "Recalculate betweenness after each edge removal and repeat the process.\n",
    "\n",
    "Eventually, the graph breaks into disconnected subgraphs, each representing a community.\n",
    "\n",
    "This algorithm is useful for uncovering hierarchical structures in networks."
   ]
  },
  {
   "cell_type": "code",
   "execution_count": 9,
   "metadata": {},
   "outputs": [
    {
     "name": "stdout",
     "output_type": "stream",
     "text": [
      "Shortest distances from node 0 : [0. 1. 2. 3.]\n"
     ]
    }
   ],
   "source": [
    "# Dijsktra’s algorithm\n",
    "import numpy as np\n",
    "\n",
    "def dijkstra(graph, start):\n",
    "    n = len(graph)\n",
    "    visited = np.full(n, False)  # Track visited nodes\n",
    "    dist = np.full(n, np.inf)    # Distance array initialized to infinity\n",
    "    dist[start] = 0              # Distance to the start node is 0\n",
    "\n",
    "    for _ in range(n):\n",
    "        # Select the unvisited node with the smallest distance\n",
    "        u = np.argmin(np.where(visited, np.inf, dist))\n",
    "\n",
    "        visited[u] = True\n",
    "\n",
    "        # Update the distances of neighboring nodes\n",
    "        for v in range(n):\n",
    "            if graph[v, u] > 0 and not visited[v]:\n",
    "                new_dist = dist[u] + graph[v, u]\n",
    "                if new_dist < dist[v]:\n",
    "                    dist[v] = new_dist\n",
    "\n",
    "    return dist\n",
    "\n",
    "# Example usage\n",
    "graph = np.array([[0,0,1,0], [1,0,0,0], [0,1,0,0], [0,0,1,0]])\n",
    "\n",
    "start_node = 0\n",
    "distances = dijkstra(graph, start_node)\n",
    "print(\"Shortest distances from node\", start_node, \":\", distances)\n"
   ]
  },
  {
   "cell_type": "code",
   "execution_count": 4,
   "metadata": {},
   "outputs": [
    {
     "name": "stdout",
     "output_type": "stream",
     "text": [
      "[0.21260745 0.26418338 0.31060172 0.21260745]\n"
     ]
    }
   ],
   "source": [
    "# RageRank:\n",
    "\n",
    "import numpy as np\n",
    "\n",
    "A = np.array([[0,0,1,0], [1,0,0,0], [0,1,0,0], [0,0,1,0]])\n",
    "d = 0.1\n",
    "T = 1000\n",
    "\n",
    "P = A.copy()\n",
    "P[:, P.sum(0) == 0] = 1\n",
    "P = P / (P.sum(0)+1e-10)\n",
    "Phat = (1-d)*P + d/A.shape[0]*np.ones(A.shape)\n",
    "x = np.ones(A.shape[0])/A.shape[0]\n",
    "for _ in range(T):\n",
    "    x = Phat @ x\n",
    "    x = x/x.sum()\n",
    "print(x)"
   ]
  },
  {
   "cell_type": "markdown",
   "metadata": {},
   "source": [
    "## The NetworkX graph library"
   ]
  },
  {
   "cell_type": "code",
   "execution_count": 5,
   "metadata": {},
   "outputs": [],
   "source": [
    "import networkx as nx\n",
    "\n",
    "G_undirected = nx.Graph()\n",
    "G_directed = nx.DiGraph()"
   ]
  },
  {
   "cell_type": "markdown",
   "metadata": {},
   "source": [
    "Nodes in a NetworkX can be any hashable type (i.e., any type that can be used as a key in a dictionary, and in fact as we will see shortly, Network uses the adjacency dictionary representation of the graph internally). We can add nodes using the `.add_node()` and `.add_nodes_from()` calls. Similarly, we can remove nodes using the `.remove_node()` or `.remove_nodes_from()` calls. Finally, a list of nodes can be given by the `.nodes()` call."
   ]
  },
  {
   "cell_type": "code",
   "execution_count": 6,
   "metadata": {},
   "outputs": [
    {
     "name": "stdout",
     "output_type": "stream",
     "text": [
      "['A', 'B', 'C']\n"
     ]
    }
   ],
   "source": [
    "G = nx.Graph()\n",
    "G.add_node(\"A\")\n",
    "G.add_nodes_from([\"B\",\"C\"])\n",
    "print(G.nodes())"
   ]
  },
  {
   "cell_type": "code",
   "execution_count": 7,
   "metadata": {},
   "outputs": [
    {
     "name": "stdout",
     "output_type": "stream",
     "text": [
      "['B']\n",
      "['A', 'C']\n"
     ]
    }
   ],
   "source": [
    "G.remove_nodes_from([\"A\", \"C\"])\n",
    "print(G.nodes())\n",
    "G.add_nodes_from([\"A\", \"C\"])\n",
    "G.remove_node(\"B\")\n",
    "print(G.nodes())"
   ]
  },
  {
   "cell_type": "markdown",
   "metadata": {},
   "source": [
    "Edges can be added and removed from the graph using using the `.add_edge()` (add a single edge), `.add_edges_from()` (add a sequence of edges from a list), `.remove_edge()` and `remove_edges_from()` (similar to before). Note that we can add edges between nodes that do not exist, and the relevant nodes are automatically added to the graph (for this reason, it is more common to simply add edges, rather than add nodes and edges separately, when constructing a graph). Like the `.nodes()` call the `.edges()` call returns a list of edges in the graph, represented as tuples"
   ]
  },
  {
   "cell_type": "code",
   "execution_count": 8,
   "metadata": {},
   "outputs": [
    {
     "name": "stdout",
     "output_type": "stream",
     "text": [
      "['A', 'B', 'C', 'D']\n",
      "[('A', 'B'), ('B', 'C'), ('C', 'A'), ('C', 'D')]\n"
     ]
    }
   ],
   "source": [
    "G = nx.DiGraph()\n",
    "G.add_edges_from([(\"A\",\"B\"), (\"B\",\"C\"), (\"C\",\"A\"), (\"C\",\"D\")])\n",
    "print(G.nodes())\n",
    "print(G.edges())"
   ]
  },
  {
   "cell_type": "code",
   "execution_count": 9,
   "metadata": {},
   "outputs": [
    {
     "name": "stdout",
     "output_type": "stream",
     "text": [
      "[('B', 'C'), ('C', 'A'), ('C', 'D')]\n"
     ]
    }
   ],
   "source": [
    "G.remove_edge(\"A\",\"B\") \n",
    "print(G.edges())"
   ]
  },
  {
   "cell_type": "code",
   "execution_count": null,
   "metadata": {},
   "outputs": [],
   "source": [
    "G.remove_edges_from([(\"A\",\"B\"), (\"B\",\"C\")])\n",
    "print(G.edges())"
   ]
  },
  {
   "cell_type": "markdown",
   "metadata": {},
   "source": [
    "Removing a node will remove all the edges connected to that node."
   ]
  },
  {
   "cell_type": "code",
   "execution_count": 10,
   "metadata": {},
   "outputs": [
    {
     "name": "stdout",
     "output_type": "stream",
     "text": [
      "[('B', 'C'), ('C', 'D')]\n"
     ]
    }
   ],
   "source": [
    "G = nx.DiGraph()\n",
    "G.add_edges_from([(\"A\",\"B\"), (\"B\",\"C\"), (\"C\",\"A\"), (\"C\",\"D\")])\n",
    "G.remove_node(\"A\")\n",
    "print(G.edges())"
   ]
  },
  {
   "cell_type": "markdown",
   "metadata": {},
   "source": [
    "## Internal representations and node/edge data\n",
    "\n",
    "Internally, NetworkX uses the adjacency dictionary representation to represent the graph. We can access these elements by just indexing into the graph object itself."
   ]
  },
  {
   "cell_type": "code",
   "execution_count": 11,
   "metadata": {},
   "outputs": [
    {
     "name": "stdout",
     "output_type": "stream",
     "text": [
      "{'A': {}, 'D': {}}\n"
     ]
    }
   ],
   "source": [
    "G = nx.DiGraph()\n",
    "G.add_edges_from([(\"A\",\"B\"), (\"B\",\"C\"), (\"C\",\"A\"), (\"C\",\"D\")])\n",
    "print(G[\"C\"])"
   ]
  },
  {
   "cell_type": "markdown",
   "metadata": {},
   "source": [
    "This dictionary is precisely where we store any relevant attributes for this edge. For example, to add a “color” attribute to an edge, we just add the key/value pair to the edge."
   ]
  },
  {
   "cell_type": "code",
   "execution_count": 13,
   "metadata": {},
   "outputs": [],
   "source": [
    "G[\"A\"][\"B\"][\"color\"] = \"red\""
   ]
  },
  {
   "cell_type": "code",
   "execution_count": 12,
   "metadata": {},
   "outputs": [
    {
     "name": "stdout",
     "output_type": "stream",
     "text": [
      "{'weight': 1.0}\n"
     ]
    }
   ],
   "source": [
    "G[\"A\"][\"B\"][\"weight\"] = 1.0\n",
    "print(G[\"A\"][\"B\"])"
   ]
  },
  {
   "cell_type": "markdown",
   "metadata": {},
   "source": [
    "The `.nodes()` and `.edges()` lists by default will not return any of the attributes. If we want to data returned too, we need to pass the `data=True` argument."
   ]
  },
  {
   "cell_type": "code",
   "execution_count": 16,
   "metadata": {},
   "outputs": [
    {
     "name": "stdout",
     "output_type": "stream",
     "text": [
      "[('A', 'B', {'weight': 1.0, 'color': 'red'}), ('B', 'C', {}), ('C', 'A', {}), ('C', 'D', {})]\n"
     ]
    }
   ],
   "source": [
    "print(G.edges(data=True))"
   ]
  },
  {
   "cell_type": "markdown",
   "metadata": {},
   "source": [
    "## Drawing graphs"
   ]
  },
  {
   "cell_type": "code",
   "execution_count": 17,
   "metadata": {},
   "outputs": [
    {
     "data": {
      "image/png": "[encoded data removed]",
      "text/plain": [
       "<Figure size 640x480 with 1 Axes>"
      ]
     },
     "metadata": {},
     "output_type": "display_data"
    }
   ],
   "source": [
    "G = nx.DiGraph()\n",
    "G.add_edges_from([(\"A\",\"B\"), (\"B\",\"C\"), (\"C\",\"A\"), (\"C\",\"D\")])\n",
    "nx.draw(G, with_labels=True)"
   ]
  },
  {
   "cell_type": "markdown",
   "metadata": {},
   "source": [
    "## Graph algorithms in NetworkX"
   ]
  },
  {
   "cell_type": "code",
   "execution_count": 20,
   "metadata": {},
   "outputs": [
    {
     "name": "stdout",
     "output_type": "stream",
     "text": [
      "{'A': 0, 'B': 1, 'C': 1, 'D': 2}\n",
      "{'A': ['A'], 'B': ['A', 'B'], 'C': ['A', 'C'], 'D': ['A', 'C', 'D']}\n"
     ]
    }
   ],
   "source": [
    "# Dijsktra’s algorithm\n",
    "\n",
    "G = nx.Graph()\n",
    "G.add_edges_from([(\"A\",\"B\"), (\"B\",\"C\"), (\"C\",\"A\"), (\"C\",\"D\")])\n",
    "print(nx.shortest_path_length(G, source=\"A\"))\n",
    "print(nx.shortest_path(G, source=\"A\"))"
   ]
  },
  {
   "cell_type": "code",
   "execution_count": 21,
   "metadata": {},
   "outputs": [
    {
     "data": {
      "text/plain": [
       "{'A': 0.21260752770379676,\n",
       " 'B': 0.2641838185655828,\n",
       " 'C': 0.31060112602682377,\n",
       " 'D': 0.21260752770379676}"
      ]
     },
     "execution_count": 21,
     "metadata": {},
     "output_type": "execute_result"
    }
   ],
   "source": [
    "# RageRank\n",
    "\n",
    "G = nx.DiGraph()\n",
    "G.add_edges_from([(\"A\",\"B\"), (\"B\",\"C\"), (\"C\",\"A\"), (\"C\",\"D\")])\n",
    "nx.pagerank(G, alpha=0.9) # alpha is 1-d"
   ]
  },
  {
   "cell_type": "code",
   "execution_count": 25,
   "metadata": {},
   "outputs": [
    {
     "data": {
      "text/plain": [
       "[({1, 2, 3, 4, 5, 6, 7}, {8, 9, 10, 11, 12, 13, 14}),\n",
       " ({1, 2, 3}, {4, 5, 6, 7}, {8, 9, 10, 11, 12, 13, 14}),\n",
       " ({1, 2, 3}, {4, 5, 6, 7}, {9, 10, 11}, {8, 12, 13, 14}),\n",
       " ({1, 2, 3}, {4, 5, 6}, {9, 10, 11}, {8, 12, 13, 14}, {7}),\n",
       " ({1, 2, 3}, {4, 5, 6}, {9, 10, 11}, {12, 13, 14}, {7}, {8}),\n",
       " ({1}, {2, 3}, {4, 5, 6}, {9, 10, 11}, {12, 13, 14}, {7}, {8}),\n",
       " ({1}, {2}, {3}, {4, 5, 6}, {9, 10, 11}, {12, 13, 14}, {7}, {8}),\n",
       " ({1}, {2}, {3}, {4}, {5, 6}, {9, 10, 11}, {12, 13, 14}, {7}, {8}),\n",
       " ({1}, {2}, {3}, {4}, {5}, {6}, {9, 10, 11}, {12, 13, 14}, {7}, {8}),\n",
       " ({1}, {2}, {3}, {4}, {5}, {6}, {9}, {10, 11}, {12, 13, 14}, {7}, {8}),\n",
       " ({1}, {2}, {3}, {4}, {5}, {6}, {9}, {10}, {11}, {12, 13, 14}, {7}, {8}),\n",
       " ({1}, {2}, {3}, {4}, {5}, {6}, {9}, {10}, {11}, {12}, {13, 14}, {7}, {8}),\n",
       " ({1}, {2}, {3}, {4}, {5}, {6}, {9}, {10}, {11}, {12}, {13}, {14}, {7}, {8})]"
      ]
     },
     "execution_count": 25,
     "metadata": {},
     "output_type": "execute_result"
    },
    {
     "data": {
      "image/png": "[encoded data removed]",
      "text/plain": [
       "<Figure size 640x480 with 1 Axes>"
      ]
     },
     "metadata": {},
     "output_type": "display_data"
    }
   ],
   "source": [
    "# Girvan-Newman\n",
    "\n",
    "G = nx.Graph()\n",
    "G.add_edges_from([(1,2), (1,3), (2,3), (4,5), (4,6), (5,6), \n",
    "                  (9,10), (9,11), (10,11), (12,13), (12,14), (13,14),\n",
    "                  (3,7), (6,7), (7,8), (8,9), (8,12)])\n",
    "\n",
    "nx.draw(G, with_labels=True)\n",
    "communities = nx.community.girvan_newman(G)\n",
    "list(communities)"
   ]
  },
  {
   "cell_type": "markdown",
   "metadata": {},
   "source": [
    "Go to https://networkx.org/documentation/stable/reference/algorithms/index.html for the whole list of fun algorithms!"
   ]
  },
  {
   "cell_type": "code",
   "execution_count": 5,
   "metadata": {},
   "outputs": [],
   "source": [
    "# from IPython.display import SVG\n",
    "\n",
    "# G = nx.DiGraph()\n",
    "# A = nx.nx_agraph.to_agraph(G)\n",
    "# G.add_edges_from([(\"A\",\"B\"), (\"B\",\"C\"), (\"C\",\"A\"), (\"C\",\"D\")])\n",
    "# A.draw(\"out.svg\", prog=\"circo\")\n",
    "# SVG(\"out.svg\")"
   ]
  }
 ],
 "metadata": {
  "kernelspec": {
   "display_name": "Python 3",
   "language": "python",
   "name": "python3"
  },
  "language_info": {
   "codemirror_mode": {
    "name": "ipython",
    "version": 3
   },
   "file_extension": ".py",
   "mimetype": "text/x-python",
   "name": "python",
   "nbconvert_exporter": "python",
   "pygments_lexer": "ipython3",
   "version": "3.10.0"
  }
 },
 "nbformat": 4,
 "nbformat_minor": 2
}
