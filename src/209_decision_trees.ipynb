{
 "cells": [
  {
   "cell_type": "markdown",
   "metadata": {},
   "source": [
    "# Decision trees classifier"
   ]
  },
  {
   "cell_type": "code",
   "execution_count": 3,
   "metadata": {},
   "outputs": [
    {
     "name": "stdout",
     "output_type": "stream",
     "text": [
      "1.0\n",
      "0.9473684210526315\n",
      "[1 0]\n"
     ]
    }
   ],
   "source": [
    "from sklearn import datasets\n",
    "import numpy as np\n",
    "\n",
    "data = datasets.load_breast_cancer()\n",
    "\n",
    "import sklearn.model_selection as ms\n",
    "X_train, X_test, y_train, y_test = ms.train_test_split(data.data, data.target, test_size=0.2, random_state=42)\n",
    "\n",
    "from sklearn import tree\n",
    "dtc = tree.DecisionTreeClassifier(random_state=42)\n",
    "\n",
    "dtc.fit(X_train, y_train)\n",
    "\n",
    "print(dtc.score(X_train, y_train))\n",
    "\n",
    "print(dtc.score(X_test, y_test))\n",
    "\n",
    "print(dtc.predict(np.array([X_test[0], X_test[1]])))"
   ]
  },
  {
   "cell_type": "code",
   "execution_count": 4,
   "metadata": {},
   "outputs": [
    {
     "name": "stdout",
     "output_type": "stream",
     "text": [
      "1.0\n",
      "0.9649122807017544\n",
      "[1 0]\n"
     ]
    }
   ],
   "source": [
    "from sklearn import datasets\n",
    "import numpy as np\n",
    "\n",
    "data = datasets.load_breast_cancer()\n",
    "\n",
    "import sklearn.model_selection as ms\n",
    "X_train, X_test, y_train, y_test = ms.train_test_split(data.data, data.target, test_size=0.2, random_state=42)\n",
    "\n",
    "from sklearn.ensemble import RandomForestClassifier\n",
    "dtc = RandomForestClassifier(random_state=42)\n",
    "\n",
    "dtc.fit(X_train, y_train)\n",
    "\n",
    "print(dtc.score(X_train, y_train))\n",
    "\n",
    "print(dtc.score(X_test, y_test))\n",
    "\n",
    "print(dtc.predict(np.array([X_test[0], X_test[1]])))"
   ]
  }
 ],
 "metadata": {
  "kernelspec": {
   "display_name": "Python 3",
   "language": "python",
   "name": "python3"
  },
  "language_info": {
   "codemirror_mode": {
    "name": "ipython",
    "version": 3
   },
   "file_extension": ".py",
   "mimetype": "text/x-python",
   "name": "python",
   "nbconvert_exporter": "python",
   "pygments_lexer": "ipython3",
   "version": "3.10.0"
  }
 },
 "nbformat": 4,
 "nbformat_minor": 2
}
