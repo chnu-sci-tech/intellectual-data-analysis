{
 "cells": [
  {
   "cell_type": "markdown",
   "metadata": {},
   "source": [
    "# Linear Algebra\n",
    "\n",
    "- Vectors and Matrices play central role in IDA.\n",
    "- Matrices - obvious way to store tabular data.\n",
    "- Foundation of linear algebra, which is the language of all data analytics algorithms (ml, ai, etc.)"
   ]
  },
  {
   "cell_type": "markdown",
   "metadata": {},
   "source": [
    "## Vectors and Matrices\n",
    "\n",
    "*Vector* - 1D array of values:\n",
    "\n",
    "$\\mathbf{v} = \\begin{bmatrix} x_1 \\\\ x_2 \\\\ ... \\\\ x_n \\end{bmatrix}$\n",
    "\n",
    "*Matrix* - 2D array of values:\n",
    "\n",
    "$$\n",
    "\\mathbf{A} = \\begin{bmatrix}\n",
    "x_{11} & x_{12} & ... & x_{1m} \\\\\n",
    "x_{21} & x_{22} & ... & x_{2m} \\\\\n",
    "... & ... & ... & ... \\\\\n",
    "x_{n1} & x_{n2} & ... & x_{nm}\n",
    "\\end{bmatrix}\n",
    "$$\n",
    "\n",
    "\n",
    "There are also higher order generalizations of matrices (called *tensors*), which represented 3D or higher arrays of values. These are in fairly common use in modern data science, though typically (but certainly not always), tensors are just used in the “multi-dimensional array” sense, not in their true linear algebra sense. Tensors as linear operators that act on e.g. matrices or other higher-order tensors, are slightly less common most basic data science."
   ]
  },
  {
   "cell_type": "markdown",
   "metadata": {},
   "source": [
    "### Row and column ordering\n",
    "\n",
    "Matrices can be laid out in memory by row or by column\n",
    "\n",
    "$$\n",
    "\\mathbf{A} = \\begin{bmatrix}\n",
    "100 & 80 \\\\\n",
    "60 & 80 \\\\\n",
    "100 & 100\n",
    "\\end{bmatrix}\n",
    "$$\n",
    "\n",
    "Row major ordering: 100, 80, 60, 80, 100, 100\n",
    "\n",
    "Column major ordering: 100, 60, 100, 80, 80, 100\n",
    "\n",
    "Row major ordering is default for C 2D arrays (and default for Numpy)\n"
   ]
  },
  {
   "cell_type": "markdown",
   "metadata": {},
   "source": [
    "## Basics and operations\n",
    "\n",
    "**Addition**: Two matrices A and B, $[n\\times m]$, $A+B=C$ is calculated: $C_{ij}=A_{ij}+B_{ij}$\n",
    "\n",
    "**Transpose**: For a matrix $A$, $[n\\times m]$, it's transpose $C=A^{T}$ is calculated: $C_{ij}=A_{ji}$\n",
    "\n",
    "**Multiplication**: For a matrix $A$ ($[n\\times m]$) and $B$ ($[m\\times p]$) product $C=AB$ is calculated: $C_{ij}=\\sum_{k=1}^{m}A_{ik}B_{kj}$\n",
    "\n",
    "Matrix multiplication is associative ($(AB)C=A(BC)$), distributive $A(B+C)=AB+AC$, but not commutative ($AB\\neq BA$).\n",
    "\n",
    "**Identity matrix**: The identity matrix I is a square matrix with ones on the diagonal an zeros everywhere else:\n",
    "\n",
    "$$\n",
    "\\mathbf{I} = \\begin{bmatrix}\n",
    "1 & 0 & ... & 0 \\\\\n",
    "0 & 1 & ... & 0 \\\\\n",
    "... & ... & ... & ... \\\\\n",
    "0 & 0 & ... & 1\n",
    "\\end{bmatrix}\n",
    "$$\n",
    "\n",
    "For any matrix $A$: $AI=IA=A$\n",
    "\n",
    "**Matix inverse**: For a square matrix $A$, the matrix inverse $A^{−1}$ is the unique matrix such that\n",
    "\n",
    "$A^{−1}A=AA^{−1}=I$\n",
    "\n",
    "The matrix inverse need not exist for all square matrices.\n",
    "\n",
    "Some equations: $(AB)^{T}=B^{T}A^{T}$, $(AB)^{-1}=B^{-1}A^{-1}$\n",
    "\n",
    "Scalar product of vectors: $x*y$ = $x^{T}y = \\sum_{i=1}^{n}x_{i}y_{i}$;\n",
    "\n",
    "Vector Norm: $||x||_{2} = \\sqrt{\\sum_{i=1}^{n}x_{i}^{2}}$\n"
   ]
  },
  {
   "cell_type": "markdown",
   "metadata": {},
   "source": [
    "## Numpy arrays\n",
    "\n",
    "Creating an array via `numpy.array` command returns a type `ndarray`. You can also create arrays of zeroes, ones or random numbers (in this case, the `np.randon.randn` create a matrix with standard random normal entries, while `np.random.rand` creates uniform random entries)."
   ]
  },
  {
   "cell_type": "code",
   "execution_count": 5,
   "metadata": {},
   "outputs": [
    {
     "name": "stdout",
     "output_type": "stream",
     "text": [
      "[-13   9] \n",
      "\n",
      "[[ 4 -5]\n",
      " [-2  3]] \n",
      "\n",
      "[1. 1. 1. 1. 1. 1. 1. 1. 1. 1. 1. 1. 1. 1. 1. 1. 1. 1. 1. 1. 1. 1. 1. 1.\n",
      " 1. 1. 1. 1. 1. 1. 1. 1. 1. 1. 1. 1. 1. 1. 1. 1.] \n",
      "\n",
      "[0. 0. 0. 0.] \n",
      "\n",
      "[0.06728787 0.91425788 0.47196836 0.53282662 0.21708857 0.29636847\n",
      " 0.12074778 0.00857913 0.04491886 0.25491678 0.83884836 0.50523009\n",
      " 0.93696112 0.96442306 0.06720672 0.6044625  0.41814113 0.2931281\n",
      " 0.13785456 0.52992055 0.68001117 0.50593221 0.95358541 0.79283673\n",
      " 0.24040528 0.83234537 0.87054646 0.23969951 0.71883544 0.82815598\n",
      " 0.75085477 0.60536751 0.1016104  0.08980058 0.09551223 0.6233089\n",
      " 0.55297487 0.20505456 0.95430942 0.61408969] \n",
      "\n",
      "[[1. 1. 1. 1.]\n",
      " [1. 1. 1. 1.]\n",
      " [1. 1. 1. 1.]] \n",
      "\n",
      "[[0. 0. 0. 0.]\n",
      " [0. 0. 0. 0.]\n",
      " [0. 0. 0. 0.]] \n",
      "\n",
      "[[ 1.53580788 -0.840737    2.27044104  1.9489999 ]\n",
      " [-1.17807911  0.21101295  0.22909662  0.4165834 ]\n",
      " [-0.41543971 -0.38854401  0.50554714 -1.37578374]]\n"
     ]
    }
   ],
   "source": [
    "import numpy as np\n",
    "\n",
    "b = np.array([-13,9])           \n",
    "A = np.array([[4,-5], [-2,3]])   \n",
    "print(b, \"\\n\")\n",
    "print(A, \"\\n\")\n",
    "\n",
    "print(np.ones(40), \"\\n\")           # 1D array of ones\n",
    "print(np.zeros(4), \"\\n\")          # 1D array of zeros\n",
    "print(np.random.rand(40), \"\\n\")         # 1D array of random normal numbers\n",
    "\n",
    "print(np.ones((3,4)), \"\\n\")       # 2D array of ones\n",
    "print(np.zeros((3,4)), \"\\n\")      # 2D array of zeros\n",
    "print(np.random.randn(3,4))       # 2D array of random normal numbers"
   ]
  },
  {
   "cell_type": "markdown",
   "metadata": {},
   "source": [
    "You can also create the indentity matrix using the `np.eye()` command, and a diagonal matrix with the `np.diag()` command."
   ]
  },
  {
   "cell_type": "code",
   "execution_count": 9,
   "metadata": {},
   "outputs": [
    {
     "name": "stdout",
     "output_type": "stream",
     "text": [
      "[[1. 0. 0.]\n",
      " [0. 1. 0.]\n",
      " [0. 0. 1.]] \n",
      "\n",
      "[[1 0 0]\n",
      " [0 2 0]\n",
      " [0 0 3]] \n",
      "\n"
     ]
    }
   ],
   "source": [
    "print(np.eye(3),\"\\n\")                     # create array for 3x3 identity matrix\n",
    "print(np.diag(np.random.randn(3)),\"\\n\")   # create diagonal array"
   ]
  },
  {
   "cell_type": "markdown",
   "metadata": {},
   "source": [
    "## Indexing into numpy arrays"
   ]
  },
  {
   "cell_type": "code",
   "execution_count": 10,
   "metadata": {},
   "outputs": [
    {
     "name": "stdout",
     "output_type": "stream",
     "text": [
      "[[ 1  2  3]\n",
      " [ 4  5  6]\n",
      " [ 7  8  9]\n",
      " [10 11 12]] \n",
      "\n",
      "5 \n",
      "\n",
      "[4 5 6] \n",
      "\n",
      "[[4 5 6]\n",
      " [7 8 9]] \n",
      "\n"
     ]
    }
   ],
   "source": [
    "A = np.array([[1,2,3], [4,5,6], [7,8,9], [10, 11, 12]])\n",
    "print(A, \"\\n\")\n",
    "print(A[1,1],\"\\n\")           # select singe entry\n",
    "print(A[1,:],\"\\n\")           # select entire row\n",
    "print(A[1:3, :], \"\\n\")       # slice indexing\n"
   ]
  },
  {
   "cell_type": "code",
   "execution_count": 11,
   "metadata": {},
   "outputs": [
    {
     "name": "stdout",
     "output_type": "stream",
     "text": [
      "[[5]] \n",
      "\n",
      "[[ 4  5  6]\n",
      " [ 7  8  9]\n",
      " [10 11 12]] \n",
      "\n",
      "[[7 8 9]\n",
      " [4 5 6]\n",
      " [7 8 9]] \n",
      "\n",
      "[[ 4  5  6]\n",
      " [10 11 12]] \n",
      "\n"
     ]
    }
   ],
   "source": [
    "print(A[1:2,1:2], \"\\n\")  # Select A[1,1] as a singleton 2D array\n",
    "print(A[[1,2,3],:], \"\\n\")  # select rows 1, 2, and 3\n",
    "print(A[[2,1,2],:], \"\\n\")  # select rows 2, 1, and 2 again\n",
    "print(A[[False, True, False, True],:], \"\\n\")  # Select 1st and 3rd rows"
   ]
  },
  {
   "cell_type": "markdown",
   "metadata": {},
   "source": [
    "## Basic operations on arrays\n",
    "\n",
    "Arrays can be added/subtracted, multiplied/divided, and transposed, but these **are not all the same** as their linear algebra counterparts.\n",
    "Array multiplication and division are done **elementwise**, they are **not** matrix multiplication or anything related to matrix inversion.\n"
   ]
  },
  {
   "cell_type": "code",
   "execution_count": 12,
   "metadata": {},
   "outputs": [
    {
     "name": "stdout",
     "output_type": "stream",
     "text": [
      "[[ 2  3  4]\n",
      " [ 5  7  7]\n",
      " [10  9 12]\n",
      " [11 15 13]] \n",
      "\n",
      "[[ 0  1  2]\n",
      " [ 3  3  5]\n",
      " [ 4  7  6]\n",
      " [ 9  7 11]] \n",
      "\n",
      "[[ 1  2  3]\n",
      " [ 4 10  6]\n",
      " [21  8 27]\n",
      " [10 44 12]] \n",
      "\n",
      "[[ 1.          2.          3.        ]\n",
      " [ 4.          2.5         6.        ]\n",
      " [ 2.33333333  8.          3.        ]\n",
      " [10.          2.75       12.        ]] \n",
      "\n"
     ]
    }
   ],
   "source": [
    "A = np.array([[1,2,3], [4,5,6], [7,8,9], [10, 11, 12]])\n",
    "B = np.array([[1, 1, 1], [1,2,1], [3, 1, 3], [1, 4, 1]])\n",
    "\n",
    "print(A+B, \"\\n\") # add A and B elementwise (same as \"standard\" matrix addition)\n",
    "print(A-B, \"\\n\") # subtract B from A elementwise (same as \"standard\" matrix subtraction)\n",
    "print(A*B, \"\\n\") # elementwise multiplication, _not_ matrix multiplication\n",
    "print(A/B, \"\\n\") # elementwise division, _not_ matrix inversion"
   ]
  },
  {
   "cell_type": "markdown",
   "metadata": {},
   "source": [
    "You can transpose arrays, but note this only has meaning for 2D (or higher) arrays. Transposing a 1D array doesn’t do anything, since Numpy has no notion of column vectors vs. row vectors for 1D arrays."
   ]
  },
  {
   "cell_type": "code",
   "execution_count": 14,
   "metadata": {},
   "outputs": [
    {
     "name": "stdout",
     "output_type": "stream",
     "text": [
      "[[ 1  2  3]\n",
      " [ 4  5  6]\n",
      " [ 7  8  9]\n",
      " [10 11 12]] \n",
      "\n",
      "[[ 1  4  7 10]\n",
      " [ 2  5  8 11]\n",
      " [ 3  6  9 12]] \n",
      "\n"
     ]
    }
   ],
   "source": [
    "print(A, \"\\n\")\n",
    "print(A.T, \"\\n\")"
   ]
  },
  {
   "cell_type": "markdown",
   "metadata": {},
   "source": [
    "## Numpy broadcasting\n",
    "\n",
    "Things start to get very fun when you add/substract/multiply/divide array of different sizes. Rather than throw an error, Numpy will try to make sense of your operation using the Numpy broadcasting rules. This is an advanced topic, which often really throws off newcomers to Numpy, but with a bit of practice the rules become quite intuitive."
   ]
  },
  {
   "cell_type": "code",
   "execution_count": 15,
   "metadata": {},
   "outputs": [
    {
     "name": "stdout",
     "output_type": "stream",
     "text": [
      "[[1. 1. 1.]\n",
      " [1. 1. 1.]\n",
      " [1. 1. 1.]\n",
      " [1. 1. 1.]] \n",
      "\n",
      "[[1 2 3]] \n",
      "\n",
      "[[1. 2. 3.]\n",
      " [1. 2. 3.]\n",
      " [1. 2. 3.]\n",
      " [1. 2. 3.]]\n"
     ]
    }
   ],
   "source": [
    "A = np.ones((4,3))          # A is 4x3\n",
    "x = np.array([[1,2,3]])      # x is 1x3\n",
    "\n",
    "print(A, '\\n')\n",
    "print(x, '\\n')\n",
    "\n",
    "print(A*x)                          # repeat x along dimension 4 (repeat four times), and multiply A"
   ]
  },
  {
   "cell_type": "markdown",
   "metadata": {},
   "source": [
    "## Linear Algebra Operations\n",
    "\n",
    "Starting with Python 3, there is now a matrix multiplication operator `@` defined between numpy arrays (previously one had to use the more cumbersome `np.dot()` function to accomplish the same thing)."
   ]
  },
  {
   "cell_type": "code",
   "execution_count": 16,
   "metadata": {},
   "outputs": [
    {
     "name": "stdout",
     "output_type": "stream",
     "text": [
      "[[ 0.54038532  0.09443322  0.71702601]\n",
      " [ 0.28061454 -2.52658994 -0.17971708]\n",
      " [-0.94982818 -1.05939834 -0.96819654]\n",
      " [ 2.34049754 -0.11445262  2.30829404]\n",
      " [ 0.65761741  0.61212264  1.80323206]] \n",
      "\n",
      "[ 0.21057349 -1.2984257   0.01726926 -0.78865254  1.16874288] \n",
      "\n",
      "1.0760795880621499\n"
     ]
    }
   ],
   "source": [
    "A = np.random.randn(5,4)\n",
    "C = np.random.randn(4,3)\n",
    "x = np.random.randn(4)\n",
    "y = np.random.randn(5)\n",
    "z = np.random.randn(4)\n",
    "\n",
    "print(A @ C, \"\\n\")       # matrix-matrix multiply (returns 2D array)\n",
    "print(A @ x, \"\\n\")       # matrix-vector multiply (returns 1D array)\n",
    "print(x @ z)       # inner product (scalar) - be careful about return type, not an ndarray!"
   ]
  },
  {
   "cell_type": "markdown",
   "metadata": {},
   "source": [
    "By default the @ operator will be applied left-to-right, which may result is very inefficient orders for the matrix multiplication."
   ]
  },
  {
   "cell_type": "code",
   "execution_count": 17,
   "metadata": {},
   "outputs": [
    {
     "name": "stdout",
     "output_type": "stream",
     "text": [
      "119 ms ± 13.1 ms per loop (mean ± std. dev. of 7 runs, 10 loops each)\n"
     ]
    }
   ],
   "source": [
    "A = np.random.randn(1000,1000)\n",
    "B = np.random.randn(1000,2000)\n",
    "x = np.random.randn(2000)\n",
    "\n",
    "%timeit A @ B @ x\n",
    "# print(A @ B @ x)"
   ]
  },
  {
   "cell_type": "markdown",
   "metadata": {},
   "source": [
    "This performs the matrix products $(AB)x$, which computes the inefficient matrix multiplication first. If we want to compute the product in the much more efficient order $A(Bx)$, we would use the command"
   ]
  },
  {
   "cell_type": "code",
   "execution_count": 18,
   "metadata": {},
   "outputs": [
    {
     "name": "stdout",
     "output_type": "stream",
     "text": [
      "3.08 ms ± 355 µs per loop (mean ± std. dev. of 7 runs, 100 loops each)\n"
     ]
    }
   ],
   "source": [
    "%timeit A @ (B @ x)"
   ]
  },
  {
   "cell_type": "markdown",
   "metadata": {},
   "source": [
    "**Complexity of operations**\n",
    "\n",
    "Assume $A$, $B$ [$n\\times n$], $x,y$ - vectors [n].\n",
    "\n",
    "Matrix-matrix product $AB$: $O(n^{3})$\n",
    "\n",
    "Matrix-vector product $Ax$: $O(n^{2})$\n",
    "\n",
    "Vector-vector inner product $x^{T}y$: $O(n)$\n",
    "\n",
    "Matrix inverse/solve: $A^{-1}$: $O(n^{3})$"
   ]
  },
  {
   "cell_type": "markdown",
   "metadata": {},
   "source": [
    "Finally, Numpy includes the routine `np.linalg.inv()` for computing the matrix inverse $A^{−1}$ and `np.linalg.solve()` for computing the matrix solve $A^{−1}b$."
   ]
  },
  {
   "cell_type": "code",
   "execution_count": 19,
   "metadata": {},
   "outputs": [
    {
     "name": "stdout",
     "output_type": "stream",
     "text": [
      "[[1.5 2.5]\n",
      " [1.  2. ]] \n",
      "\n",
      "[3. 5.]\n"
     ]
    }
   ],
   "source": [
    "b = np.array([-13,9])\n",
    "A = np.array([[4,-5], [-2,3]])\n",
    "\n",
    "print(np.linalg.inv(A), \"\\n\")   # explicitly form inverse\n",
    "print(np.linalg.solve(A,b))     # compute solution A^{-1}b"
   ]
  },
  {
   "cell_type": "markdown",
   "metadata": {},
   "source": [
    "## Sparse Matrices\n",
    "\n",
    "Many matrices are sparse (contain mostly zero entries, with only a few non-zero \n",
    "entries)\n",
    "\n",
    "Examples: matrices formed by real-world graphs, document-word count matrices \n",
    "(more on both of these later)\n",
    "\n",
    "Storing all these zeros in a standard matrix format can be a huge waste of \n",
    "computation and memory\n",
    "\n",
    "Sparse matrix libraries provide an efficient means for handling these sparse \n",
    "matrices, storing and operating only on non-zero entries"
   ]
  },
  {
   "cell_type": "markdown",
   "metadata": {},
   "source": [
    "There are several different ways of storing sparse matrices, each optimized for \n",
    "different operations\n",
    "\n",
    "**Coordinate (COO) format:** store each entry as a tuple\n",
    "(row_index, col_index, value)\n",
    "\n",
    "$$\n",
    "\\mathbf{A} = \\begin{bmatrix}\n",
    "0 & 0 & 3 & 0 \\\\\n",
    "2 & 0 & 0 & 1 \\\\\n",
    "0 & 1 & 0 & 0 \\\\\n",
    "4 & 0 & 1 & 0\n",
    "\\end{bmatrix}\n",
    "$$\n",
    "\n",
    "Instead:\\\n",
    "$values = [2, 4, 1, 3, 1, 1]$\\\n",
    "$row-indices = [1, 3, 2, 0, 3, 1]$\\\n",
    "$column-indices = [0, 0, 1, 2, 2, 3]$"
   ]
  },
  {
   "cell_type": "markdown",
   "metadata": {},
   "source": [
    "## Python sparse matrix libraries\n",
    "\n",
    "https://docs.scipy.org/doc/scipy/reference/sparse.html"
   ]
  },
  {
   "cell_type": "code",
   "execution_count": 20,
   "metadata": {},
   "outputs": [
    {
     "name": "stdout",
     "output_type": "stream",
     "text": [
      "[[0 0 3 0]\n",
      " [2 0 0 1]\n",
      " [0 1 0 0]\n",
      " [4 0 1 0]]\n"
     ]
    }
   ],
   "source": [
    "import scipy.sparse as sp\n",
    "\n",
    "\n",
    "values = [2, 4, 1, 3, 1, 1]\n",
    "row_indices = [1, 3, 2, 0, 3, 1]\n",
    "column_indices = [0, 0, 1, 2, 2, 3]\n",
    "A = sp.coo_matrix((values, (row_indices, column_indices)), shape=(4,4))\n",
    "print(A.todense())"
   ]
  }
 ],
 "metadata": {
  "kernelspec": {
   "display_name": "Python 3",
   "language": "python",
   "name": "python3"
  },
  "language_info": {
   "codemirror_mode": {
    "name": "ipython",
    "version": 3
   },
   "file_extension": ".py",
   "mimetype": "text/x-python",
   "name": "python",
   "nbconvert_exporter": "python",
   "pygments_lexer": "ipython3",
   "version": "3.10.0"
  }
 },
 "nbformat": 4,
 "nbformat_minor": 2
}
