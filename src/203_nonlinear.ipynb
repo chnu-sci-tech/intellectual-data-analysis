{
 "cells": [
  {
   "cell_type": "markdown",
   "metadata": {},
   "source": [
    "# Nonlinear Modeling and Generalization\n",
    "\n",
    "Thus far, we have illustrated linear regression as “drawing a line through through the data”, \n",
    "but this was really a function of our input features.\n",
    "\n",
    "Though it may seem limited, linear regression algorithms are quite powerful when applied \n",
    "to non-linear features of the input data"
   ]
  },
  {
   "cell_type": "code",
   "execution_count": null,
   "metadata": {},
   "outputs": [],
   "source": []
  }
 ],
 "metadata": {
  "language_info": {
   "name": "python"
  }
 },
 "nbformat": 4,
 "nbformat_minor": 2
}
