{
 "cells": [
  {
   "cell_type": "markdown",
   "metadata": {},
   "source": [
    "# Hypothesis Testing"
   ]
  },
  {
   "cell_type": "markdown",
   "metadata": {},
   "source": [
    "## 1. Introduction to Hypothesis Testing\n",
    "Hypothesis testing is a fundamental statistical method used in data science to make inferences or draw conclusions about a population based on sample data. It helps us determine whether an observed effect in a dataset is statistically significant or if it could have occurred by random chance.\n",
    "\n",
    "In data science, hypothesis testing is used in a variety of applications, including A/B testing, regression analysis, and machine learning model evaluation.\n"
   ]
  },
  {
   "cell_type": "markdown",
   "metadata": {},
   "source": [
    "\n",
    "\n",
    "## 2. Key Concepts in Hypothesis Testing\n",
    "Null Hypothesis (H₀): The null hypothesis is a statement that there is no effect or no difference. It serves as the default or starting assumption. For example, in an A/B test, the null hypothesis might state that two groups have the same mean performance.\n",
    "\n",
    "Alternative Hypothesis (H₁): The alternative hypothesis is the opposite of the null hypothesis. It suggests that there is a statistically significant effect or difference. For example, the alternative hypothesis could state that group A has a higher mean than group B.\n",
    "\n",
    "Test Statistic: A test statistic is a standardized value calculated from sample data, which is used to assess the strength of the evidence against the null hypothesis. Common test statistics include t-scores and z-scores.\n",
    "\n",
    "P-value: The p-value represents the probability of obtaining a test statistic at least as extreme as the one observed, assuming the null hypothesis is true. A small p-value (typically less than 0.05) indicates strong evidence against the null hypothesis.\n",
    "\n",
    "Significance Level (α): The significance level (often denoted as α) is a threshold chosen by the analyst to decide whether to reject the null hypothesis. Commonly, α is set to 0.05, meaning there is a 5% chance of rejecting the null hypothesis when it is actually true (Type I error).\n",
    "\n",
    "Type I and Type II Errors:\n",
    "\n",
    "Type I Error: Incorrectly rejecting the null hypothesis when it is true (false positive).\n",
    "Type II Error: Failing to reject the null hypothesis when it is false (false negative).\n",
    "Power of the Test: The power of a test is the probability of correctly rejecting the null hypothesis when it is false. A high power means there is a lower risk of a Type II error.\n"
   ]
  },
  {
   "cell_type": "markdown",
   "metadata": {},
   "source": [
    "\n",
    "\n",
    "## 3. Steps in Hypothesis Testing\n",
    "State the Hypotheses: Formulate the null hypothesis (H₀) and the alternative hypothesis (H₁).\n",
    "\n",
    "Example:\n",
    "\n",
    "H₀: There is no difference between the mean performance of Group A and Group B.\n",
    "H₁: The mean performance of Group A is greater than that of Group B.\n",
    "Choose a Significance Level (α): Select a significance level (commonly 0.05) to control for the probability of making a Type I error.\n",
    "\n",
    "Collect Data: Gather the data from your sample or experiment.\n",
    "\n",
    "Select and Compute a Test Statistic: Depending on the type of data and the hypotheses, choose an appropriate statistical test (e.g., t-test, z-test, chi-square test) and compute the test statistic.\n",
    "\n",
    "Calculate the P-value: Use the test statistic to calculate the p-value. This can be done manually, using statistical tables, or using software (e.g., Python, R, or statistical tools like SPSS).\n",
    "\n",
    "Compare P-value to α: If the p-value is less than or equal to the significance level α, reject the null hypothesis; otherwise, fail to reject it.\n",
    "\n",
    "Make a Conclusion: Based on the comparison, draw a conclusion and interpret the results in the context of your problem.\n",
    "\n"
   ]
  },
  {
   "cell_type": "markdown",
   "metadata": {},
   "source": [
    "\n",
    "## 4. Common Hypothesis Tests in Data Science\n",
    "Z-test: Used when the sample size is large (n > 30) and the population standard deviation is known. It compares the sample mean to the population mean.\n",
    "\n",
    "Example: Testing whether a new drug reduces blood pressure more effectively than an old drug.\n",
    "T-test: Used when the sample size is small (n ≤ 30) or the population standard deviation is unknown. There are two common types:\n",
    "\n",
    "One-sample t-test: Tests if the sample mean is different from a known value.\n",
    "Two-sample t-test: Tests if the means of two independent samples are different.\n",
    "Chi-Square Test: Used to test relationships between categorical variables. It is commonly used in contingency tables to assess whether observed frequencies differ from expected frequencies.\n",
    "\n",
    "Example: Testing if two marketing campaigns result in different customer purchase rates.\n",
    "ANOVA (Analysis of Variance): Used to compare means among three or more groups to see if at least one group mean is significantly different from the others.\n",
    "\n",
    "Example: Testing the effectiveness of different advertising methods on sales.\n",
    "A/B Testing: This is a special case of hypothesis testing widely used in web analytics and product development. It involves comparing two versions (A and B) of a product or webpage to determine which performs better.\n",
    "\n"
   ]
  },
  {
   "cell_type": "markdown",
   "metadata": {},
   "source": [
    "\n",
    "## 5. Hypothesis Testing in Machine Learning\n",
    "In machine learning, hypothesis testing plays a role in model evaluation. For example, when comparing two models (e.g., a decision tree and a random forest), you can use hypothesis testing to assess whether the difference in performance (e.g., accuracy, precision) is statistically significant.\n",
    "\n",
    "A common scenario is using cross-validation to train models on different subsets of data and then performing a statistical test (e.g., a paired t-test) to determine whether one model consistently outperforms the other.\n",
    "\n"
   ]
  },
  {
   "cell_type": "markdown",
   "metadata": {},
   "source": [
    "\n",
    "## 6. Practical Example: A/B Testing with Hypothesis Testing\n",
    "Imagine a scenario where an e-commerce company wants to test whether a new website design (B) results in more purchases than the current design (A). The company conducts an A/B test and collects data on the number of purchases made by users visiting each version of the site.\n",
    "\n",
    "Steps:\n",
    "\n",
    "Null Hypothesis (H₀): The new design does not affect the purchase rate (i.e., no difference between A and B).\n",
    "Alternative Hypothesis (H₁): The new design increases the purchase rate.\n",
    "Significance Level: Set α = 0.05.\n",
    "Collect Data: Suppose you collect the following data:\n",
    "Version A: 500 visitors, 50 purchases\n",
    "Version B: 600 visitors, 80 purchases\n",
    "Perform Test: Use a z-test for proportions to compare the purchase rates between the two groups.\n",
    "Conclusion: Based on the p-value, either reject or fail to reject the null hypothesis."
   ]
  },
  {
   "cell_type": "markdown",
   "metadata": {},
   "source": [
    "## Example: one-sample t-test"
   ]
  },
  {
   "cell_type": "code",
   "execution_count": 3,
   "metadata": {},
   "outputs": [
    {
     "name": "stdout",
     "output_type": "stream",
     "text": [
      "0.46291004988627577 0.6749411569291093\n"
     ]
    }
   ],
   "source": [
    "# import packages \n",
    "import scipy.stats as stats \n",
    "import numpy as np\n",
    "  \n",
    "data = [182, 180, 190, 184]\n",
    "  \n",
    "# perform one sample t-test \n",
    "t_statistic, p_value = stats.ttest_1samp(a=data, popmean=183) \n",
    "print(t_statistic , p_value)\n",
    "\n",
    "# data_average = [0, 1, 0, 1, 0, 1, 0, 1, 0, 1]\n",
    "# t_statistic, p_value = stats.ttest_1samp(a=data_average, popmean=0.5) \n",
    "# print(t_statistic , p_value)"
   ]
  },
  {
   "cell_type": "markdown",
   "metadata": {},
   "source": [
    "## One-way ANOVA"
   ]
  },
  {
   "cell_type": "code",
   "execution_count": 7,
   "metadata": {},
   "outputs": [
    {
     "name": "stdout",
     "output_type": "stream",
     "text": [
      "F-statistic: 4.434477379095165\n",
      "P-value: 0.03068555150519455\n"
     ]
    }
   ],
   "source": [
    "# Sample data from three independent groups\n",
    "group1 = [2.9, 3.0, 2.5, 2.6, 3.2, 2.8]\n",
    "group2 = [3.8, 2.7, 4.0, 3.9, 3.2, 3.1]\n",
    "group3 = [3.1, 3.4, 3.7, 3.0, 3.1, 3.6]\n",
    "\n",
    "# Perform one-way ANOVA\n",
    "f_statistic, p_value = stats.f_oneway(group1, group2, group3)\n",
    "\n",
    "# Output the results\n",
    "print(f\"F-statistic: {f_statistic}\")\n",
    "print(f\"P-value: {p_value}\")"
   ]
  },
  {
   "cell_type": "markdown",
   "metadata": {},
   "source": [
    "## One-sample Chi-Squered"
   ]
  },
  {
   "cell_type": "code",
   "execution_count": 4,
   "metadata": {},
   "outputs": [
    {
     "name": "stdout",
     "output_type": "stream",
     "text": [
      "Chi-Square Statistic: 50.0\n",
      "P-value: 1.3857973367009573e-09\n"
     ]
    }
   ],
   "source": [
    "# Observed frequencies (from your sample)\n",
    "observed = np.array([30, 10, 5, 5, 5, 5])  \n",
    "\n",
    "avg = observed.sum()\n",
    "\n",
    "expected = np.array([avg/6, avg/6, avg/6, avg/6, avg/6, avg/6])\n",
    "\n",
    "# Perform the one-sample Chi-Square goodness of fit test\n",
    "chi2_stat, p_value = stats.chisquare(f_obs=observed, f_exp=expected)\n",
    "\n",
    "# Output the results\n",
    "print(f\"Chi-Square Statistic: {chi2_stat}\")\n",
    "print(f\"P-value: {p_value}\")"
   ]
  },
  {
   "cell_type": "markdown",
   "metadata": {},
   "source": [
    "## Chi-Square Test of Independence"
   ]
  },
  {
   "cell_type": "code",
   "execution_count": 6,
   "metadata": {},
   "outputs": [
    {
     "name": "stdout",
     "output_type": "stream",
     "text": [
      "Chi-Square Statistic: 2.412380952380953\n",
      "P-value: 0.49133407367391724\n",
      "Degrees of Freedom: 3\n",
      "Expected Frequencies:\n",
      "[[1.17647059 2.94117647 2.35294118 3.52941176]\n",
      " [0.82352941 2.05882353 1.64705882 2.47058824]]\n"
     ]
    }
   ],
   "source": [
    "# Sample data: A contingency table of observed frequencies\n",
    "# For example, this could be data on customer preferences between two brands across age groups.\n",
    "observed = np.array([[1,2,2,5],\n",
    "                     [1, 3, 2, 1]])\n",
    "\n",
    "# Perform the Chi-Square Test of Independence\n",
    "chi2_stat, p_value, dof, expected = stats.chi2_contingency(observed)\n",
    "\n",
    "# Output the results\n",
    "print(f\"Chi-Square Statistic: {chi2_stat}\")\n",
    "print(f\"P-value: {p_value}\")\n",
    "print(f\"Degrees of Freedom: {dof}\")\n",
    "print(f\"Expected Frequencies:\\n{expected}\")"
   ]
  }
 ],
 "metadata": {
  "kernelspec": {
   "display_name": "Python 3",
   "language": "python",
   "name": "python3"
  },
  "language_info": {
   "codemirror_mode": {
    "name": "ipython",
    "version": 3
   },
   "file_extension": ".py",
   "mimetype": "text/x-python",
   "name": "python",
   "nbconvert_exporter": "python",
   "pygments_lexer": "ipython3",
   "version": "3.10.0"
  }
 },
 "nbformat": 4,
 "nbformat_minor": 2
}
